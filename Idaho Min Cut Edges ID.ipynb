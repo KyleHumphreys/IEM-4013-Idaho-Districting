{
 "cells": [
  {
   "cell_type": "markdown",
   "metadata": {},
   "source": [
    "Source code obtained from https://github.com/AustinLBuchanan/Districting-Examples/tree/main/starters\n",
    "This code has been modified from Oklahoma to fit Idaho\n",
    "Credit to Austin Buchanan"
   ]
  },
  {
   "cell_type": "code",
   "execution_count": 1,
   "metadata": {},
   "outputs": [],
   "source": [
    "from gerrychain import Graph"
   ]
  },
  {
   "cell_type": "code",
   "execution_count": 2,
   "metadata": {},
   "outputs": [],
   "source": [
    "# Read Idaho county graph from the json file \"ID_county.json\"\n",
    "filename = 'ID_county.json'\n",
    "\n",
    "# GerryChain has a built-in function for reading graphs of this type:\n",
    "G = Graph.from_json( filename )"
   ]
  },
  {
   "cell_type": "code",
   "execution_count": 3,
   "metadata": {},
   "outputs": [
    {
     "name": "stdout",
     "output_type": "stream",
     "text": [
      "Using L = 779873 and U = 787709 and k = 2\n"
     ]
    }
   ],
   "source": [
    "# Let's impose a population deviation ranging from 1% to 0.1% depending on user input\n",
    "deviation = 0.01\n",
    "\n",
    "import math\n",
    "k = 2          # number of districts\n",
    "total_population = sum(G.nodes[node]['TOTPOP'] for node in G.nodes)\n",
    "\n",
    "L = math.ceil((1-deviation/2)*total_population/k)\n",
    "U = math.floor((1+deviation/2)*total_population/k)\n",
    "print(\"Using L =\",L,\"and U =\",U,\"and k =\",k)"
   ]
  },
  {
   "cell_type": "code",
   "execution_count": 4,
   "metadata": {},
   "outputs": [
    {
     "name": "stdout",
     "output_type": "stream",
     "text": [
      "Academic license - for non-commercial use only - expires 2021-06-05\n",
      "Using license file C:\\Users\\user\\gurobi.lic\n"
     ]
    }
   ],
   "source": [
    "import gurobipy as gp\n",
    "from gurobipy import GRB\n",
    "\n",
    "# create model \n",
    "m = gp.Model()\n",
    "\n",
    "# create variables\n",
    "x = m.addVars(G.nodes, k, vtype=GRB.BINARY) # x[i,j] equals one when county i is assigned to district j\n",
    "y = m.addVars(G.edges, vtype=GRB.BINARY)  # y[u,v] equals one when edge {u,v} is cut"
   ]
  },
  {
   "cell_type": "code",
   "execution_count": 5,
   "metadata": {},
   "outputs": [],
   "source": [
    "# objective is to minimize cut edges\n",
    "m.setObjective( gp.quicksum( y[u,v] for u,v in G.edges ), GRB.MINIMIZE )"
   ]
  },
  {
   "cell_type": "code",
   "execution_count": 6,
   "metadata": {},
   "outputs": [],
   "source": [
    "# add constraints saying that each county i is assigned to one district\n",
    "m.addConstrs( gp.quicksum(x[i,j] for j in range(k)) == 1 for i in G.nodes)\n",
    "\n",
    "# add constraints saying that each district has population at least L and at most U\n",
    "m.addConstrs( gp.quicksum( G.nodes[i]['TOTPOP'] * x[i,j] for i in G.nodes) >= L for j in range(k) )\n",
    "m.addConstrs( gp.quicksum( G.nodes[i]['TOTPOP'] * x[i,j] for i in G.nodes) <= U for j in range(k) )\n",
    "\n",
    "# add constraints saying that edge {i,j} is cut if i is assigned to district v but j is not.\n",
    "m.addConstrs( x[i,v] - x[j,v] <= y[i,j] for i,j in G.edges for v in range(k))\n",
    "\n",
    "m.update()"
   ]
  },
  {
   "cell_type": "code",
   "execution_count": 7,
   "metadata": {},
   "outputs": [],
   "source": [
    "# Now, let's add contiguity constraints and re-solve the model.\n",
    "# We will use the contiguity constraints of Hojny et al. (MPC, 2021)\n",
    "#   https://link.springer.com/article/10.1007/s12532-020-00186-3\n",
    "\n",
    "# Add root variables: r[i,j] equals 1 if node i is the \"root\" of district j\n",
    "r = m.addVars(G.nodes, k, vtype=GRB.BINARY)\n",
    "\n",
    "# Add flow variables: f[u,v] = amount of flow sent across arc uv \n",
    "#  Flows are sent across arcs of the directed version of G which we call DG\n",
    "import networkx as nx\n",
    "DG = nx.DiGraph(G) # directed version of G: edge (i,j) -> directed edges (i,j) and (j,i)\n",
    "f = m.addVars(DG.edges, vtype=GRB.CONTINUOUS)"
   ]
  },
  {
   "cell_type": "code",
   "execution_count": 8,
   "metadata": {},
   "outputs": [],
   "source": [
    "# The big-M proposed by Hojny et al.\n",
    "M = G.number_of_nodes() - k + 1\n",
    "\n",
    "# Each district j should have one root\n",
    "m.addConstrs( gp.quicksum( r[i,j] for i in DG.nodes ) == 1 for j in range(k) )\n",
    "\n",
    "# If node i is not assigned to district j, then it cannot be its root\n",
    "m.addConstrs( r[i,j] <= x[i,j] for i in DG.nodes for j in range(k) )\n",
    "\n",
    "# if not a root, consume some flow.\n",
    "# if a root, only send out (so much) flow.\n",
    "m.addConstrs( gp.quicksum(f[u,i] - f[i,u] for u in G.neighbors(i) ) >= 1 - M*gp.quicksum( r[i,j] for j in range(k) ) for i in DG.nodes)\n",
    "\n",
    "# do not send flow across cut edges\n",
    "m.addConstrs( f[i,j] + f[j,i] <= M * (1 - y[i,j] ) for (i,j) in G.edges )\n",
    "\n",
    "m.update()"
   ]
  },
  {
   "cell_type": "code",
   "execution_count": 9,
   "metadata": {},
   "outputs": [
    {
     "name": "stdout",
     "output_type": "stream",
     "text": [
      "Gurobi Optimizer version 9.1.1 build v9.1.1rc0 (win64)\n",
      "Thread count: 2 physical cores, 4 logical processors, using up to 4 threads\n",
      "Optimize a model with 488 rows, 482 columns and 1942 nonzeros\n",
      "Model fingerprint: 0xe92e62db\n",
      "Variable types: 204 continuous, 278 integer (278 binary)\n",
      "Coefficient statistics:\n",
      "  Matrix range     [1e+00, 4e+05]\n",
      "  Objective range  [1e+00, 1e+00]\n",
      "  Bounds range     [1e+00, 1e+00]\n",
      "  RHS range        [1e+00, 8e+05]\n",
      "Presolve removed 46 rows and 44 columns\n",
      "Presolve time: 0.01s\n",
      "Presolved: 442 rows, 438 columns, 1766 nonzeros\n",
      "Variable types: 204 continuous, 234 integer (234 binary)\n",
      "\n",
      "Root relaxation: objective 0.000000e+00, 121 iterations, 0.00 seconds\n",
      "\n",
      "    Nodes    |    Current Node    |     Objective Bounds      |     Work\n",
      " Expl Unexpl |  Obj  Depth IntInf | Incumbent    BestBd   Gap | It/Node Time\n",
      "\n",
      "     0     0    0.00000    0   48          -    0.00000      -     -    0s\n",
      "     0     0    0.00000    0   52          -    0.00000      -     -    0s\n",
      "     0     0    0.51549    0   50          -    0.51549      -     -    0s\n",
      "     0     0    0.51549    0   50          -    0.51549      -     -    0s\n",
      "     0     0    0.51549    0   52          -    0.51549      -     -    0s\n",
      "     0     0    0.51549    0   50          -    0.51549      -     -    0s\n",
      "     0     0    0.51549    0   50          -    0.51549      -     -    0s\n",
      "     0     0    0.51549    0   50          -    0.51549      -     -    0s\n",
      "H    0     0                      21.0000000    0.51549  97.5%     -    0s\n",
      "     0     2    1.00000    0   50   21.00000    1.00000  95.2%     -    0s\n",
      "H   65    64                      10.0000000    5.00000  50.0%  36.4    0s\n",
      "\n",
      "Cutting planes:\n",
      "  Gomory: 1\n",
      "  MIR: 15\n",
      "\n",
      "Explored 115 nodes (4189 simplex iterations) in 0.21 seconds\n",
      "Thread count was 4 (of 4 available processors)\n",
      "\n",
      "Solution count 2: 10 21 \n",
      "\n",
      "Optimal solution found (tolerance 1.00e-04)\n",
      "Best objective 1.000000000000e+01, best bound 1.000000000000e+01, gap 0.0000%\n"
     ]
    }
   ],
   "source": [
    "# solve IP model\n",
    "m.optimize()"
   ]
  },
  {
   "cell_type": "code",
   "execution_count": 10,
   "metadata": {},
   "outputs": [
    {
     "name": "stdout",
     "output_type": "stream",
     "text": [
      "The number of cut edges is 10.0\n",
      "District 0 has population 787060 and contains counties ['Camas', 'Power', 'Bear Lake', 'Canyon', 'Caribou', 'Clark', 'Lemhi', 'Fremont', 'Twin Falls', 'Bonneville', 'Minidoka', 'Custer', 'Owyhee', 'Teton', 'Blaine', 'Jefferson', 'Gooding', 'Jerome', 'Elmore', 'Oneida', 'Lincoln', 'Cassia', 'Franklin', 'Butte', 'Madison', 'Bingham', 'Bannock']\n",
      "District 1 has population 780522 and contains counties ['Lewis', 'Idaho', 'Latah', 'Washington', 'Gem', 'Bonner', 'Boundary', 'Boise', 'Payette', 'Nez Perce', 'Adams', 'Clearwater', 'Valley', 'Kootenai', 'Ada', 'Benewah', 'Shoshone']\n"
     ]
    }
   ],
   "source": [
    "print(\"The number of cut edges is\",m.objval)\n",
    "\n",
    "# retrieve the districts and their populations\n",
    "districts = [ [i for i in G.nodes if x[i,j].x > 0.5] for j in range(k)]\n",
    "district_counties = [ [ G.nodes[i][\"NAME10\"] for i in districts[j] ] for j in range(k)]\n",
    "district_populations = [ sum(G.nodes[i][\"TOTPOP\"] for i in districts[j]) for j in range(k) ]\n",
    "\n",
    "# print district info\n",
    "for j in range(k):\n",
    "    print(\"District\",j,\"has population\",district_populations[j],\"and contains counties\",district_counties[j])"
   ]
  },
  {
   "cell_type": "code",
   "execution_count": 11,
   "metadata": {},
   "outputs": [],
   "source": [
    "# Let's draw it on a map\n",
    "import geopandas as gpd"
   ]
  },
  {
   "cell_type": "code",
   "execution_count": 12,
   "metadata": {},
   "outputs": [],
   "source": [
    "# Read Idaho county shapefile from \"ID_counties.shp\"\n",
    "filename = 'ID_counties.shp'\n",
    "\n",
    "# Read geopandas dataframe from file\n",
    "df = gpd.read_file( filename )"
   ]
  },
  {
   "cell_type": "code",
   "execution_count": 13,
   "metadata": {},
   "outputs": [
    {
     "data": {
      "image/png": "[encoded data removed]",
      "text/plain": [
       "<Figure size 432x288 with 1 Axes>"
      ]
     },
     "metadata": {
      "needs_background": "light"
     },
     "output_type": "display_data"
    }
   ],
   "source": [
    "# Which district is each county assigned to?\n",
    "assignment = [ -1 for u in G.nodes ]\n",
    "    \n",
    "# for each district j\n",
    "for j in range(len(districts)):\n",
    "    \n",
    "    # for each node i in this district\n",
    "    for i in districts[j]:\n",
    "        \n",
    "        # What is its GEOID?\n",
    "        geoID = G.nodes[i][\"GEOID10\"]\n",
    "        \n",
    "        # Need to find this GEOID in the dataframe\n",
    "        for u in G.nodes:\n",
    "            if geoID == df['GEOID10'][u]: # Found it\n",
    "                assignment[u] = j # Node u from the dataframe should be assigned to district j\n",
    "\n",
    "# Now add the assignments to a column of the dataframe and map it\n",
    "df['assignment'] = assignment\n",
    "my_fig = df.plot(column='assignment').get_figure()"
   ]
  },
  {
   "cell_type": "code",
   "execution_count": null,
   "metadata": {},
   "outputs": [],
   "source": []
  }
 ],
 "metadata": {
  "kernelspec": {
   "display_name": "Python 3",
   "language": "python",
   "name": "python3"
  },
  "language_info": {
   "codemirror_mode": {
    "name": "ipython",
    "version": 3
   },
   "file_extension": ".py",
   "mimetype": "text/x-python",
   "name": "python",
   "nbconvert_exporter": "python",
   "pygments_lexer": "ipython3",
   "version": "3.8.5"
  }
 },
 "nbformat": 4,
 "nbformat_minor": 4
}
