{
 "cells": [
  {
   "cell_type": "markdown",
   "metadata": {},
   "source": [
    "Source code obtained from https://github.com/AustinLBuchanan/Districting-Examples/tree/main/starters\n",
    "This code has been modified from Oklahoma to fit Idaho\n",
    "Credit to Austin Buchanan"
   ]
  },
  {
   "cell_type": "code",
   "execution_count": 1,
   "metadata": {},
   "outputs": [],
   "source": [
    "from gerrychain import Graph"
   ]
  },
  {
   "cell_type": "code",
   "execution_count": 2,
   "metadata": {},
   "outputs": [],
   "source": [
    "# Read Idaho county graph from the json file \"ID_county.json\"\n",
    "filename = 'ID_county.json'\n",
    "\n",
    "# GerryChain has a built-in function for reading graphs of this type:\n",
    "G = Graph.from_json( filename )"
   ]
  },
  {
   "cell_type": "code",
   "execution_count": 3,
   "metadata": {},
   "outputs": [
    {
     "name": "stdout",
     "output_type": "stream",
     "text": [
      "Node 0 is Lewis County, which has population 3821 and is centered at ( -116.42625178560918 , 46.23702314406699 )\n",
      "Node 1 is Idaho County, which has population 16267 and is centered at ( -115.46745103298879 , 45.84419796794917 )\n",
      "Node 2 is Camas County, which has population 1117 and is centered at ( -114.80585387535139 , 43.463250656373454 )\n",
      "Node 3 is Power County, which has population 7817 and is centered at ( -112.84066960021103 , 42.693686655410794 )\n",
      "Node 4 is Bear Lake County, which has population 5986 and is centered at ( -111.32965930452752 , 42.28477507282713 )\n",
      "Node 5 is Latah County, which has population 37244 and is centered at ( -116.71167979837338 , 46.8161275012604 )\n",
      "Node 6 is Washington County, which has population 10198 and is centered at ( -116.78477138496368 , 44.45242559517531 )\n",
      "Node 7 is Canyon County, which has population 188923 and is centered at ( -116.70929246980863 , 43.62513350043343 )\n",
      "Node 8 is Gem County, which has population 16719 and is centered at ( -116.39722668178256 , 44.06169135470734 )\n",
      "Node 9 is Caribou County, which has population 6963 and is centered at ( -111.5622236567656 , 42.770501416254454 )\n",
      "Node 10 is Clark County, which has population 982 and is centered at ( -112.35135041250112 , 44.28398020709931 )\n",
      "Node 11 is Lemhi County, which has population 7936 and is centered at ( -113.93323758757784 , 44.94331382903055 )\n",
      "Node 12 is Fremont County, which has population 13242 and is centered at ( -111.4820167365833 , 44.22878707748059 )\n",
      "Node 13 is Bonner County, which has population 40877 and is centered at ( -116.60097372197977 , 48.29974867009887 )\n",
      "Node 14 is Twin Falls County, which has population 77230 and is centered at ( -114.66716343187257 , 42.35597811831656 )\n",
      "Node 15 is Bonneville County, which has population 104234 and is centered at ( -111.61492535272431 , 43.38773178548787 )\n",
      "Node 16 is Minidoka County, which has population 20069 and is centered at ( -113.63751739340198 , 42.85439859275789 )\n",
      "Node 17 is Boundary County, which has population 10972 and is centered at ( -116.46288306070473 , 48.767020415128954 )\n",
      "Node 18 is Boise County, which has population 7028 and is centered at ( -115.7302439422954 , 43.989131561003234 )\n",
      "Node 19 is Custer County, which has population 4368 and is centered at ( -114.28168095333275 , 44.241324229938265 )\n",
      "Node 20 is Owyhee County, which has population 11526 and is centered at ( -116.16997886015118 , 42.58153080714473 )\n",
      "Node 21 is Teton County, which has population 10170 and is centered at ( -111.2077006059465 , 43.75945878429387 )\n",
      "Node 22 is Payette County, which has population 22623 and is centered at ( -116.76084265788417 , 44.00673812866318 )\n",
      "Node 23 is Blaine County, which has population 21376 and is centered at ( -113.97989773632676 , 43.41241065126453 )\n",
      "Node 24 is Jefferson County, which has population 26140 and is centered at ( -112.31128355063824 , 43.82014296806994 )\n",
      "Node 25 is Nez Perce County, which has population 39265 and is centered at ( -116.75023536392544 , 46.32676053178198 )\n",
      "Node 26 is Gooding County, which has population 15464 and is centered at ( -114.81151545620834 , 42.97090228892992 )\n",
      "Node 27 is Jerome County, which has population 22374 and is centered at ( -114.26402510581885 , 42.689903766209994 )\n",
      "Node 28 is Adams County, which has population 3976 and is centered at ( -116.45386748862042 , 44.88964677506716 )\n",
      "Node 29 is Clearwater County, which has population 8761 and is centered at ( -115.65685601501295 , 46.6737005581246 )\n",
      "Node 30 is Elmore County, which has population 27038 and is centered at ( -115.4691785186668 , 43.35390026277303 )\n",
      "Node 31 is Oneida County, which has population 4286 and is centered at ( -112.53962276109645 , 42.19490161179652 )\n",
      "Node 32 is Valley County, which has population 9862 and is centered at ( -115.56612814841259 , 44.76670212020047 )\n",
      "Node 33 is Kootenai County, which has population 138494 and is centered at ( -116.7000127196748 , 47.67455581273383 )\n",
      "Node 34 is Ada County, which has population 392365 and is centered at ( -116.24108607471787 , 43.45111806721197 )\n",
      "Node 35 is Benewah County, which has population 9285 and is centered at ( -116.6588258801025 , 47.21755092377532 )\n",
      "Node 36 is Lincoln County, which has population 5208 and is centered at ( -114.13830993340888 , 43.00241349977395 )\n",
      "Node 37 is Cassia County, which has population 22952 and is centered at ( -113.60036766329544 , 42.28386971073581 )\n",
      "Node 38 is Franklin County, which has population 12786 and is centered at ( -111.81323211395795 , 42.18117398185809 )\n",
      "Node 39 is Butte County, which has population 2891 and is centered at ( -113.17113224621119 , 43.7232851332067 )\n",
      "Node 40 is Madison County, which has population 37536 and is centered at ( -111.65933944761045 , 43.78419441827305 )\n",
      "Node 41 is Shoshone County, which has population 12765 and is centered at ( -115.89103093854595 , 47.35166610833864 )\n",
      "Node 42 is Bingham County, which has population 45607 and is centered at ( -112.3980533562629 , 43.2165158558303 )\n",
      "Node 43 is Bannock County, which has population 82839 and is centered at ( -112.2246293892508 , 42.668506936641826 )\n"
     ]
    }
   ],
   "source": [
    "# For each node, print the node #, county name, and its population\n",
    "for node in G.nodes:\n",
    "    name = G.nodes[node][\"NAME10\"]\n",
    "    population = G.nodes[node]['TOTPOP']\n",
    "    x_coordinate = G.nodes[node]['C_X']\n",
    "    y_coordinate = G.nodes[node]['C_Y']\n",
    "    print(\"Node\",node,\"is\",name,\"County, which has population\",population,\"and is centered at (\",x_coordinate,\",\",y_coordinate,\")\")"
   ]
  },
  {
   "cell_type": "code",
   "execution_count": 4,
   "metadata": {},
   "outputs": [],
   "source": [
    "# pip install geopy"
   ]
  },
  {
   "cell_type": "code",
   "execution_count": 5,
   "metadata": {},
   "outputs": [
    {
     "name": "stdout",
     "output_type": "stream",
     "text": [
      "Lewis -> Bonneville: 307.5313916730925\n",
      "Bonneville -> Blaine: 119.05438495772937\n",
      "Blaine -> Lewis: 229.09074212248242\n"
     ]
    }
   ],
   "source": [
    "# what is the \"distance\" between Lewis County (node 0), Bonneville County (node 15), and Blaine County (node 23)?\n",
    "from geopy.distance import geodesic\n",
    "\n",
    "# Store centroid location as ( long, lat )\n",
    "Lewis = ( G.nodes[0]['C_Y'],  G.nodes[0]['C_X'] )\n",
    "Bonneville = ( G.nodes[15]['C_Y'], G.nodes[15]['C_X'] )\n",
    "Blaine = ( G.nodes[23]['C_Y'], G.nodes[23]['C_X'] )\n",
    "\n",
    "# Print the distance in miles\n",
    "print(\"Lewis -> Bonneville:\",geodesic(Lewis, Bonneville).miles)\n",
    "print(\"Bonneville -> Blaine:\",geodesic(Bonneville, Blaine).miles)\n",
    "print(\"Blaine -> Lewis:\",geodesic(Blaine, Lewis).miles)"
   ]
  },
  {
   "cell_type": "code",
   "execution_count": 6,
   "metadata": {},
   "outputs": [],
   "source": [
    "# create distance dictionary\n",
    "dist = dict()\n",
    "for i in G.nodes:\n",
    "    for j in G.nodes:\n",
    "        loc_i = ( G.nodes[i]['C_Y'],  G.nodes[i]['C_X'] )\n",
    "        loc_j = ( G.nodes[j]['C_Y'],  G.nodes[j]['C_X'] )\n",
    "        dist[i,j] = geodesic(loc_i,loc_j).miles"
   ]
  },
  {
   "cell_type": "code",
   "execution_count": 7,
   "metadata": {},
   "outputs": [
    {
     "name": "stdout",
     "output_type": "stream",
     "text": [
      "Lewis -> Bonneville: 307.5313916730925\n"
     ]
    }
   ],
   "source": [
    "# check the dictionary by printing the Lewis County -> Bonneville County distance\n",
    "print(\"Lewis -> Bonneville:\",dist[0,15])"
   ]
  },
  {
   "cell_type": "code",
   "execution_count": 8,
   "metadata": {},
   "outputs": [
    {
     "name": "stdout",
     "output_type": "stream",
     "text": [
      "Using L = 779873 and U = 787709 and k = 2\n"
     ]
    }
   ],
   "source": [
    "# Let's impose a population deviation ranging from 1% to 0.1% depending on user input.\n",
    "deviation = 0.01\n",
    "\n",
    "import math\n",
    "k = 2          # number of districts\n",
    "total_population = sum(G.nodes[node]['TOTPOP'] for node in G.nodes)\n",
    "\n",
    "L = math.ceil((1-deviation/2)*total_population/k)\n",
    "U = math.floor((1+deviation/2)*total_population/k)\n",
    "print(\"Using L =\",L,\"and U =\",U,\"and k =\",k)"
   ]
  },
  {
   "cell_type": "code",
   "execution_count": 9,
   "metadata": {},
   "outputs": [
    {
     "name": "stdout",
     "output_type": "stream",
     "text": [
      "Academic license - for non-commercial use only - expires 2021-05-31\n",
      "Using license file C:\\Users\\lcrat\\gurobi.lic\n"
     ]
    }
   ],
   "source": [
    "import gurobipy as gp\n",
    "from gurobipy import GRB\n",
    "\n",
    "# create model \n",
    "m = gp.Model()\n",
    "\n",
    "# create x[i,j] variable which equals one when county i \n",
    "#    is assigned to (the district centered at) county j\n",
    "x = m.addVars(G.nodes, G.nodes, vtype=GRB.BINARY) "
   ]
  },
  {
   "cell_type": "code",
   "execution_count": 10,
   "metadata": {},
   "outputs": [],
   "source": [
    "# objective is to minimize the moment of inertia: d^2 * p * x\n",
    "m.setObjective( gp.quicksum( dist[i,j]*dist[i,j]*G.nodes[i]['TOTPOP']*x[i,j] for i in G.nodes for j in G.nodes), GRB.MINIMIZE )"
   ]
  },
  {
   "cell_type": "code",
   "execution_count": 11,
   "metadata": {},
   "outputs": [],
   "source": [
    "# add constraints saying that each county i is assigned to one district\n",
    "m.addConstrs( gp.quicksum(x[i,j] for j in G.nodes) == 1 for i in G.nodes)\n",
    "\n",
    "# add constraint saying there should be k district centers\n",
    "m.addConstr( gp.quicksum( x[j,j] for j in G.nodes ) == k )\n",
    "\n",
    "# add constraints that say: if j roots a district, then its population is between L and U.\n",
    "m.addConstrs( gp.quicksum( G.nodes[i]['TOTPOP'] * x[i,j] for i in G.nodes) >= L * x[j,j] for j in G.nodes )\n",
    "m.addConstrs( gp.quicksum( G.nodes[i]['TOTPOP'] * x[i,j] for i in G.nodes) <= U * x[j,j] for j in G.nodes )\n",
    "\n",
    "# add coupling constraints saying that if i is assigned to j, then j is a center.\n",
    "m.addConstrs( x[i,j] <= x[j,j] for i in G.nodes for j in G.nodes )\n",
    "\n",
    "m.update()"
   ]
  },
  {
   "cell_type": "code",
   "execution_count": 12,
   "metadata": {},
   "outputs": [],
   "source": [
    "# Add contiguity constraints\n",
    "import networkx as nx\n",
    "DG = nx.DiGraph(G) # directed version of G\n",
    "\n",
    "# Add variable f[j,u,v] which equals the amount of flow (originally from j) that is sent across arc (u,v)\n",
    "f = m.addVars( DG.nodes, DG.edges, vtype=GRB.CONTINUOUS)\n",
    "M = DG.number_of_nodes() - 1\n",
    "# Add constraint saying that node j cannot receive flow of its own type\n",
    "m.addConstrs( gp.quicksum( f[j,u,j] for u in DG.neighbors(j) ) == 0 for j in DG.nodes)\n",
    "# Add constraints saying that node i can receive flow of type j only if i is assigned to j\n",
    "m.addConstrs(gp.quicksum( f[j,u,i] for u in DG.neighbors(i) )<= M * x[i,j] for i in DG.nodes for j in DG.nodes if i != j )\n",
    "\n",
    "# If i is assigned to j, then i should consume one unit of j flow. \n",
    "#    Otherwise, i should consume no units of j flow.\n",
    "m.addConstrs( gp.quicksum( f[j,u,i] - f[j,i,u] for u in G.neighbors(i)) == x[i,j] for i in DG.nodes for j in DG.nodes if i != j )\n",
    "\n",
    "m.update()"
   ]
  },
  {
   "cell_type": "code",
   "execution_count": 13,
   "metadata": {},
   "outputs": [
    {
     "name": "stdout",
     "output_type": "stream",
     "text": [
      "Changed value of parameter MIPGap to 0.0\n",
      "   Prev: 0.0001  Min: 0.0  Max: inf  Default: 0.0001\n",
      "Gurobi Optimizer version 9.1.1 build v9.1.1rc0 (win64)\n",
      "Thread count: 4 physical cores, 8 logical processors, using up to 8 threads\n",
      "Optimize a model with 5897 rows, 10912 columns and 39940 nonzeros\n",
      "Model fingerprint: 0xf7d6446e\n",
      "Variable types: 8976 continuous, 1936 integer (1936 binary)\n",
      "Coefficient statistics:\n",
      "  Matrix range     [1e+00, 8e+05]\n",
      "  Objective range  [1e+06, 5e+10]\n",
      "  Bounds range     [1e+00, 1e+00]\n",
      "  RHS range        [1e+00, 2e+00]\n",
      "Warning: Model contains large objective coefficients\n",
      "         Consider reformulating model or setting NumericFocus parameter\n",
      "         to avoid numerical issues.\n",
      "Presolve removed 174 rows and 289 columns\n",
      "Presolve time: 0.27s\n",
      "Presolved: 5723 rows, 10623 columns, 39232 nonzeros\n",
      "Variable types: 8687 continuous, 1936 integer (1936 binary)\n",
      "\n",
      "Root relaxation: objective 2.199830e+10, 1230 iterations, 0.27 seconds\n",
      "\n",
      "    Nodes    |    Current Node    |     Objective Bounds      |     Work\n",
      " Expl Unexpl |  Obj  Depth IntInf | Incumbent    BestBd   Gap | It/Node Time\n",
      "\n",
      "     0     0 2.1998e+10    0    2          - 2.1998e+10      -     -    0s\n",
      "H    0     0                    2.358038e+10 2.1998e+10  6.71%     -    0s\n",
      "     0     0 2.3546e+10    0   93 2.3580e+10 2.3546e+10  0.14%     -    1s\n",
      "\n",
      "Explored 1 nodes (1527 simplex iterations) in 1.44 seconds\n",
      "Thread count was 8 (of 8 available processors)\n",
      "\n",
      "Solution count 1: 2.35804e+10 \n",
      "\n",
      "Optimal solution found (tolerance 0.00e+00)\n",
      "Best objective 2.358038479587e+10, best bound 2.358038479587e+10, gap 0.0000%\n"
     ]
    }
   ],
   "source": [
    "# solve, making sure to set a 0.00% MIP gap tolerance(!)\n",
    "m.Params.MIPGap = 0.0\n",
    "m.optimize()"
   ]
  },
  {
   "cell_type": "code",
   "execution_count": 14,
   "metadata": {},
   "outputs": [
    {
     "name": "stdout",
     "output_type": "stream",
     "text": [
      "The moment of inertia objective is 23580384795.87092\n",
      "District 0 has population 787060 and contains counties ['Camas', 'Power', 'Bear Lake', 'Canyon', 'Caribou', 'Clark', 'Lemhi', 'Fremont', 'Twin Falls', 'Bonneville', 'Minidoka', 'Custer', 'Owyhee', 'Teton', 'Blaine', 'Jefferson', 'Gooding', 'Jerome', 'Elmore', 'Oneida', 'Lincoln', 'Cassia', 'Franklin', 'Butte', 'Madison', 'Bingham', 'Bannock']\n",
      "District 1 has population 780522 and contains counties ['Lewis', 'Idaho', 'Latah', 'Washington', 'Gem', 'Bonner', 'Boundary', 'Boise', 'Payette', 'Nez Perce', 'Adams', 'Clearwater', 'Valley', 'Kootenai', 'Ada', 'Benewah', 'Shoshone']\n"
     ]
    }
   ],
   "source": [
    "print(\"The moment of inertia objective is\",m.objval)\n",
    "\n",
    "# retrieve the districts and their populations\n",
    "centers = [j for j in G.nodes if x[j,j].x > 0.5 ]\n",
    "districts = [ [i for i in G.nodes if x[i,j].x > 0.5] for j in centers]\n",
    "district_counties = [ [ G.nodes[i][\"NAME10\"] for i in districts[j] ] for j in range(k)]\n",
    "district_populations = [ sum(G.nodes[i][\"TOTPOP\"] for i in districts[j]) for j in range(k) ]\n",
    "\n",
    "# print district info\n",
    "for j in range(k):\n",
    "    print(\"District\",j,\"has population\",district_populations[j],\"and contains counties\",district_counties[j])"
   ]
  },
  {
   "cell_type": "code",
   "execution_count": 15,
   "metadata": {},
   "outputs": [],
   "source": [
    "# Let's draw it on a map\n",
    "import geopandas as gpd"
   ]
  },
  {
   "cell_type": "code",
   "execution_count": 16,
   "metadata": {},
   "outputs": [],
   "source": [
    "# Read Idaho county shapefile from \"ID_counties.shp\"\n",
    "filename = 'ID_counties.shp'\n",
    "\n",
    "# Read geopandas dataframe from file\n",
    "df = gpd.read_file( filename )"
   ]
  },
  {
   "cell_type": "code",
   "execution_count": 17,
   "metadata": {},
   "outputs": [
    {
     "data": {
      "image/png": "[encoded data removed]",
      "text/plain": [
       "<Figure size 432x288 with 1 Axes>"
      ]
     },
     "metadata": {
      "needs_background": "light"
     },
     "output_type": "display_data"
    }
   ],
   "source": [
    "# Which district is each county assigned to?\n",
    "assignment = [ -1 for u in G.nodes ]\n",
    "    \n",
    "# for each district j\n",
    "for j in range(len(districts)):\n",
    "    \n",
    "    # for each node i in this district\n",
    "    for i in districts[j]:\n",
    "        \n",
    "        # What is its GEOID?\n",
    "        geoID = G.nodes[i][\"GEOID10\"]\n",
    "        \n",
    "        # Need to find this GEOID in the dataframe\n",
    "        for u in G.nodes:\n",
    "            if geoID == df['GEOID10'][u]: # Found it\n",
    "                assignment[u] = j # Node u from the dataframe should be assigned to district j\n",
    "\n",
    "# Now add the assignments to a column of the dataframe and map it\n",
    "df['assignment'] = assignment\n",
    "my_fig = df.plot(column='assignment').get_figure()"
   ]
  },
  {
   "cell_type": "code",
   "execution_count": null,
   "metadata": {},
   "outputs": [],
   "source": []
  }
 ],
 "metadata": {
  "kernelspec": {
   "display_name": "Python 3",
   "language": "python",
   "name": "python3"
  },
  "language_info": {
   "codemirror_mode": {
    "name": "ipython",
    "version": 3
   },
   "file_extension": ".py",
   "mimetype": "text/x-python",
   "name": "python",
   "nbconvert_exporter": "python",
   "pygments_lexer": "ipython3",
   "version": "3.8.5"
  }
 },
 "nbformat": 4,
 "nbformat_minor": 4
}
